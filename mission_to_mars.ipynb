{
 "cells": [
  {
   "cell_type": "code",
   "execution_count": 1,
   "metadata": {},
   "outputs": [],
   "source": [
    "# import dependencies\n",
    "from bs4 import BeautifulSoup as soup\n",
    "from splinter import Browser\n",
    "import pandas as pd\n",
    "import requests\n",
    "import pymongo"
   ]
  },
  {
   "cell_type": "code",
   "execution_count": 2,
   "metadata": {},
   "outputs": [],
   "source": [
    "# open chrome driver\n",
    "executable_path = {'executable_path': 'chromedriver.exe'}\n",
    "browser = Browser('chrome', **executable_path, headless=False)"
   ]
  },
  {
   "cell_type": "markdown",
   "metadata": {},
   "source": [
    "### NASA Mars News"
   ]
  },
  {
   "cell_type": "code",
   "execution_count": 8,
   "metadata": {},
   "outputs": [],
   "source": [
    "# define url\n",
    "mars_news_url = \"https://mars.nasa.gov/news/\"\n",
    "browser.visit(mars_news_url)\n",
    "browser.is_element_present_by_css(\"ul.item_list li.slide\", wait_time=1)\n",
    "\n",
    "# create the soup\n",
    "html = browser.html\n",
    "mars_news_soup = soup(html, 'html.parser')"
   ]
  },
  {
   "cell_type": "code",
   "execution_count": 9,
   "metadata": {},
   "outputs": [
    {
     "name": "stdout",
     "output_type": "stream",
     "text": [
      "None\n"
     ]
    }
   ],
   "source": [
    "parent_element = mars_news_soup.select_one(\"u1.item_list li.slide\")\n",
    "print(parent_element)"
   ]
  },
  {
   "cell_type": "code",
   "execution_count": null,
   "metadata": {},
   "outputs": [],
   "source": [
    "\n",
    "# find the first news title\n",
    "news_title = parent_element.find(\"div\", class_=\"content_title\").get_text()\n",
    "\n",
    "# # find the paragraph associated with the first title\n",
    "# news_p = mars_news_soup.body.find(\"div\", class_=\"article_teaser_body\").text\n",
    "\n",
    "print(f\"{news_title}\")\n",
    "# print()\n",
    "# print(f\"{news_p}\")"
   ]
  },
  {
   "cell_type": "markdown",
   "metadata": {},
   "source": [
    "### JPL Mars Space Images - Featured Image"
   ]
  },
  {
   "cell_type": "code",
   "execution_count": null,
   "metadata": {},
   "outputs": [],
   "source": [
    "# define the url and visit it with browser\n",
    "mars_image_url = \"https://www.jpl.nasa.gov/spaceimages/?search=&category=Mars\"\n",
    "browser.visit(mars_image_url)"
   ]
  },
  {
   "cell_type": "code",
   "execution_count": null,
   "metadata": {},
   "outputs": [],
   "source": [
    "# click on the link to access the full image\n",
    "browser.click_link_by_id('full_image')"
   ]
  },
  {
   "cell_type": "code",
   "execution_count": null,
   "metadata": {},
   "outputs": [],
   "source": [
    "# click on the more info button to get to the large image\n",
    "browser.click_link_by_partial_text('more info')"
   ]
  },
  {
   "cell_type": "code",
   "execution_count": null,
   "metadata": {},
   "outputs": [],
   "source": [
    "# create the soup\n",
    "image_html = browser.html\n",
    "mars_image_soup = soup(image_html, 'html.parser')\n",
    "\n",
    "# store the class\n",
    "image = mars_image_soup.body.find(\"figure\", class_=\"lede\")\n",
    "\n",
    "# find the \"a element\" to extract the url\n",
    "link = image.find('a')\n",
    "href = link['href']\n",
    "\n",
    "# complete the url\n",
    "featured_image_url = 'https://www.jpl.nasa.gov' + href\n",
    "\n",
    "featured_image_url"
   ]
  },
  {
   "cell_type": "markdown",
   "metadata": {},
   "source": [
    "### Mars Weather"
   ]
  },
  {
   "cell_type": "code",
   "execution_count": null,
   "metadata": {},
   "outputs": [],
   "source": [
    "# open url in browser\n",
    "mars_weather_url = \"https://twitter.com/marswxreport?lang=en\"\n",
    "browser.visit(mars_weather_url)"
   ]
  },
  {
   "cell_type": "code",
   "execution_count": null,
   "metadata": {},
   "outputs": [],
   "source": [
    "# soup time\n",
    "html = browser.html\n",
    "mars_weather_soup = soup(html, 'html.parser')"
   ]
  },
  {
   "cell_type": "code",
   "execution_count": null,
   "metadata": {},
   "outputs": [],
   "source": [
    "# find the tweet text\n",
    "mars_weather = mars_weather_soup.body.find('div','css-901oao r-jwli3a r-1qd0xha r-a023e6 r-16dba41 r-ad9z0x r-bcqeeo r-bnwqim r-qvutc0').text\n",
    "\n",
    "mars_weather"
   ]
  },
  {
   "cell_type": "markdown",
   "metadata": {},
   "source": [
    "### Mars Facts"
   ]
  },
  {
   "cell_type": "code",
   "execution_count": null,
   "metadata": {},
   "outputs": [],
   "source": [
    "# define url\n",
    "mars_facts_url = \"https://space-facts.com/mars/\"\n",
    "\n",
    "# read html into pandas\n",
    "tables = pd.read_html(mars_facts_url)\n",
    "\n",
    "# set up dataframe\n",
    "mars_facts_df = tables[0]\n",
    "mars_facts_df.columns = [\"Description\", \"Value\"]\n",
    "\n",
    "# convert to html\n",
    "mars_facts_html=mars_facts_df.to_html()\n",
    "\n",
    "mars_facts_html"
   ]
  },
  {
   "cell_type": "markdown",
   "metadata": {},
   "source": [
    "### Mars Hemispheres"
   ]
  },
  {
   "cell_type": "code",
   "execution_count": null,
   "metadata": {},
   "outputs": [],
   "source": [
    "# set up for Cerberus Hemisphere\n",
    "\n",
    "# define url and open in browser\n",
    "mars_hemispheres_url = \"https://astrogeology.usgs.gov/search/results?q=hemisphere+enhanced&k1=target&v1=Mars\"\n",
    "\n",
    "browser.visit(mars_hemispheres_url)\n",
    "\n",
    "browser.click_link_by_partial_text('Cerberus')\n",
    "browser.click_link_by_partial_text('Open')\n",
    "\n",
    "# soup\n",
    "hemispheres_html = browser.html\n",
    "cerberus_soup = soup(hemispheres_html, 'html.parser')\n",
    "\n",
    "cerberus = cerberus_soup.body.find('img', class_ = 'wide-image')\n",
    "cerberus_img = cerberus['src']\n",
    "\n",
    "hem_base_url = 'https://astrogeology.usgs.gov'\n",
    "cerberus_url = hem_base_url + cerberus_img\n",
    "print(cerberus_url)"
   ]
  },
  {
   "cell_type": "code",
   "execution_count": null,
   "metadata": {},
   "outputs": [],
   "source": [
    "# set up for Schiaparelli Hemisphere\n",
    "\n",
    "# define url and open in browser\n",
    "mars_hemispheres_url = \"https://astrogeology.usgs.gov/search/results?q=hemisphere+enhanced&k1=target&v1=Mars\"\n",
    "\n",
    "browser.visit(mars_hemispheres_url)\n",
    "\n",
    "browser.click_link_by_partial_text('Schiaparelli')\n",
    "browser.click_link_by_partial_text('Open')\n",
    "\n",
    "# soup\n",
    "schiaparelli_html = browser.html\n",
    "schiaparelli_soup = soup(schiaparelli_html, 'html.parser')\n",
    "\n",
    "schiaparelli = schiaparelli_soup.body.find('img', class_ = 'wide-image')\n",
    "schiaparelli_img = schiaparelli['src']\n",
    "\n",
    "hem_base_url = 'https://astrogeology.usgs.gov'\n",
    "schiaparelli_url = hem_base_url + schiaparelli_img\n",
    "print(schiaparelli_url)"
   ]
  },
  {
   "cell_type": "code",
   "execution_count": null,
   "metadata": {},
   "outputs": [],
   "source": [
    "# set up for Syrtis Major Hemisphere\n",
    "\n",
    "# define url and open in browser\n",
    "mars_hemispheres_url = \"https://astrogeology.usgs.gov/search/results?q=hemisphere+enhanced&k1=target&v1=Mars\"\n",
    "\n",
    "browser.visit(mars_hemispheres_url)\n",
    "\n",
    "browser.click_link_by_partial_text('Syrtis')\n",
    "browser.click_link_by_partial_text('Open')\n",
    "\n",
    "\n",
    "# soup\n",
    "syrtis_html = browser.html\n",
    "syrtis_soup = soup(syrtis_html, 'html.parser')\n",
    "\n",
    "syrtis = syrtis_soup.body.find('img', class_ = 'wide-image')\n",
    "syrtis_img = syrtis['src']\n",
    "\n",
    "hem_base_url = 'https://astrogeology.usgs.gov'\n",
    "syrtis_url = hem_base_url + syrtis_img\n",
    "print(syrtis_url)"
   ]
  },
  {
   "cell_type": "code",
   "execution_count": null,
   "metadata": {},
   "outputs": [],
   "source": [
    "# set up for Valles Marineris Hemisphere\n",
    "\n",
    "# define url and open in browser\n",
    "mars_hemispheres_url = \"https://astrogeology.usgs.gov/search/results?q=hemisphere+enhanced&k1=target&v1=Mars\"\n",
    "\n",
    "browser.visit(mars_hemispheres_url)\n",
    "\n",
    "browser.click_link_by_partial_text('Valles')\n",
    "browser.click_link_by_partial_text('Open')\n",
    "\n",
    "# soup\n",
    "valles_html = browser.html\n",
    "valles_soup = soup(valles_html, 'html.parser')\n",
    "\n",
    "valles = valles_soup.body.find('img', class_ = 'wide-image')\n",
    "valles_img = valles['src']\n",
    "\n",
    "hem_base_url = 'https://astrogeology.usgs.gov'\n",
    "valles_url = hem_base_url + valles_img\n",
    "print(valles_url)"
   ]
  },
  {
   "cell_type": "code",
   "execution_count": null,
   "metadata": {},
   "outputs": [],
   "source": [
    "hemispheres_image_urls = [\n",
    "    {\"title\": \"Cerberus Hemisphere\", \"img_url\": cerberus_url},\n",
    "    {\"title\": \"Schiaparelli Marineris Hemisphere\", \"img_url\": schiaparelli_url},\n",
    "    {\"title\": \"Syrtis Major Hemisphere\", \"img_url\": syrtis_url},\n",
    "    {\"title\": \"Valles Marineris Hemisphere\", \"img_url\": valles_url}\n",
    "]\n",
    "\n",
    "hemispheres_image_urls"
   ]
  },
  {
   "cell_type": "code",
   "execution_count": null,
   "metadata": {},
   "outputs": [],
   "source": [
    "# store all the data in a dictionary\n",
    "mars_data = {\n",
    "    \"news_title\": news_title,\n",
    "    \"news_p\": news_p,\n",
    "    \"featured_image_url\": featured_image_url,\n",
    "    \"mars_weather\": mars_weather,\n",
    "    \"mars_facts\": mars_facts_html,\n",
    "    \"hemisphere_image_urls\": hemispheres_image_urls\n",
    "}"
   ]
  }
 ],
 "metadata": {
  "kernelspec": {
   "display_name": "Python 3",
   "language": "python",
   "name": "python3"
  },
  "language_info": {
   "codemirror_mode": {
    "name": "ipython",
    "version": 3
   },
   "file_extension": ".py",
   "mimetype": "text/x-python",
   "name": "python",
   "nbconvert_exporter": "python",
   "pygments_lexer": "ipython3",
   "version": "3.7.6"
  }
 },
 "nbformat": 4,
 "nbformat_minor": 4
}
